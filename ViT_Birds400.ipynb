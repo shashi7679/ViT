{
 "cells": [
  {
   "cell_type": "code",
   "execution_count": 18,
   "id": "1d8522df-012a-4477-aa56-8c440af1fe33",
   "metadata": {
    "execution": {
     "iopub.execute_input": "2022-04-27T10:55:11.209246Z",
     "iopub.status.busy": "2022-04-27T10:55:11.208697Z",
     "iopub.status.idle": "2022-04-27T10:55:19.939794Z",
     "shell.execute_reply": "2022-04-27T10:55:19.938966Z",
     "shell.execute_reply.started": "2022-04-27T10:55:11.209207Z"
    }
   },
   "outputs": [
    {
     "name": "stdout",
     "output_type": "stream",
     "text": [
      "Looking in indexes: https://pypi.org/simple, https://pypi.ngc.nvidia.com\n",
      "Requirement already satisfied: tqdm in /opt/conda/lib/python3.8/site-packages (4.62.3)\n",
      "\u001b[33mWARNING: Running pip as the 'root' user can result in broken permissions and conflicting behaviour with the system package manager. It is recommended to use a virtual environment instead: https://pip.pypa.io/warnings/venv\u001b[0m\n",
      "Looking in indexes: https://pypi.org/simple, https://pypi.ngc.nvidia.com\n",
      "Requirement already satisfied: transformers in /opt/conda/lib/python3.8/site-packages (4.18.0)\n",
      "Requirement already satisfied: datasets in /opt/conda/lib/python3.8/site-packages (2.1.0)\n",
      "Requirement already satisfied: pyyaml>=5.1 in /opt/conda/lib/python3.8/site-packages (from transformers) (5.4.1)\n",
      "Requirement already satisfied: tqdm>=4.27 in /opt/conda/lib/python3.8/site-packages (from transformers) (4.62.3)\n",
      "Requirement already satisfied: filelock in /opt/conda/lib/python3.8/site-packages (from transformers) (3.4.2)\n",
      "Requirement already satisfied: requests in /opt/conda/lib/python3.8/site-packages (from transformers) (2.26.0)\n",
      "Requirement already satisfied: huggingface-hub<1.0,>=0.1.0 in /opt/conda/lib/python3.8/site-packages (from transformers) (0.5.1)\n",
      "Requirement already satisfied: sacremoses in /opt/conda/lib/python3.8/site-packages (from transformers) (0.0.47)\n",
      "Requirement already satisfied: tokenizers!=0.11.3,<0.13,>=0.11.1 in /opt/conda/lib/python3.8/site-packages (from transformers) (0.12.1)\n",
      "Requirement already satisfied: regex!=2019.12.17 in /opt/conda/lib/python3.8/site-packages (from transformers) (2022.1.18)\n",
      "Requirement already satisfied: packaging>=20.0 in /opt/conda/lib/python3.8/site-packages (from transformers) (21.3)\n",
      "Requirement already satisfied: numpy>=1.17 in /opt/conda/lib/python3.8/site-packages (from transformers) (1.22.2)\n",
      "Requirement already satisfied: pyarrow>=5.0.0 in /opt/conda/lib/python3.8/site-packages (from datasets) (5.0.0)\n",
      "Requirement already satisfied: xxhash in /opt/conda/lib/python3.8/site-packages (from datasets) (3.0.0)\n",
      "Requirement already satisfied: responses<0.19 in /opt/conda/lib/python3.8/site-packages (from datasets) (0.18.0)\n",
      "Requirement already satisfied: pandas in /opt/conda/lib/python3.8/site-packages (from datasets) (1.3.5)\n",
      "Requirement already satisfied: dill in /opt/conda/lib/python3.8/site-packages (from datasets) (0.3.4)\n",
      "Requirement already satisfied: multiprocess in /opt/conda/lib/python3.8/site-packages (from datasets) (0.70.12.2)\n",
      "Requirement already satisfied: fsspec[http]>=2021.05.0 in /opt/conda/lib/python3.8/site-packages (from datasets) (2022.1.0)\n",
      "Requirement already satisfied: aiohttp in /opt/conda/lib/python3.8/site-packages (from datasets) (3.8.1)\n",
      "Requirement already satisfied: typing-extensions>=3.7.4.3 in /opt/conda/lib/python3.8/site-packages (from huggingface-hub<1.0,>=0.1.0->transformers) (4.0.1)\n",
      "Requirement already satisfied: pyparsing!=3.0.5,>=2.0.2 in /opt/conda/lib/python3.8/site-packages (from packaging>=20.0->transformers) (3.0.7)\n",
      "Requirement already satisfied: urllib3<1.27,>=1.21.1 in /opt/conda/lib/python3.8/site-packages (from requests->transformers) (1.26.7)\n",
      "Requirement already satisfied: charset-normalizer~=2.0.0 in /opt/conda/lib/python3.8/site-packages (from requests->transformers) (2.0.9)\n",
      "Requirement already satisfied: idna<4,>=2.5 in /opt/conda/lib/python3.8/site-packages (from requests->transformers) (3.1)\n",
      "Requirement already satisfied: certifi>=2017.4.17 in /opt/conda/lib/python3.8/site-packages (from requests->transformers) (2021.10.8)\n",
      "Requirement already satisfied: aiosignal>=1.1.2 in /opt/conda/lib/python3.8/site-packages (from aiohttp->datasets) (1.2.0)\n",
      "Requirement already satisfied: async-timeout<5.0,>=4.0.0a3 in /opt/conda/lib/python3.8/site-packages (from aiohttp->datasets) (4.0.2)\n",
      "Requirement already satisfied: attrs>=17.3.0 in /opt/conda/lib/python3.8/site-packages (from aiohttp->datasets) (18.2.0)\n",
      "Requirement already satisfied: yarl<2.0,>=1.0 in /opt/conda/lib/python3.8/site-packages (from aiohttp->datasets) (1.7.2)\n",
      "Requirement already satisfied: multidict<7.0,>=4.5 in /opt/conda/lib/python3.8/site-packages (from aiohttp->datasets) (6.0.2)\n",
      "Requirement already satisfied: frozenlist>=1.1.1 in /opt/conda/lib/python3.8/site-packages (from aiohttp->datasets) (1.3.0)\n",
      "Requirement already satisfied: pytz>=2017.3 in /opt/conda/lib/python3.8/site-packages (from pandas->datasets) (2021.3)\n",
      "Requirement already satisfied: python-dateutil>=2.7.3 in /opt/conda/lib/python3.8/site-packages (from pandas->datasets) (2.8.2)\n",
      "Requirement already satisfied: six>=1.5 in /opt/conda/lib/python3.8/site-packages (from python-dateutil>=2.7.3->pandas->datasets) (1.16.0)\n",
      "Requirement already satisfied: click in /opt/conda/lib/python3.8/site-packages (from sacremoses->transformers) (8.0.3)\n",
      "Requirement already satisfied: joblib in /opt/conda/lib/python3.8/site-packages (from sacremoses->transformers) (1.1.0)\n",
      "\u001b[33mWARNING: Running pip as the 'root' user can result in broken permissions and conflicting behaviour with the system package manager. It is recommended to use a virtual environment instead: https://pip.pypa.io/warnings/venv\u001b[0m\n",
      "Looking in indexes: https://pypi.org/simple, https://pypi.ngc.nvidia.com\n",
      "Requirement already satisfied: torchinfo in /opt/conda/lib/python3.8/site-packages (1.6.5)\n",
      "\u001b[33mWARNING: Running pip as the 'root' user can result in broken permissions and conflicting behaviour with the system package manager. It is recommended to use a virtual environment instead: https://pip.pypa.io/warnings/venv\u001b[0m\n"
     ]
    }
   ],
   "source": [
    "!pip install tqdm\n",
    "!pip install transformers datasets\n",
    "!pip install torchinfo"
   ]
  },
  {
   "cell_type": "code",
   "execution_count": 19,
   "id": "f8480377-33d1-4672-9438-61903ff5ace0",
   "metadata": {
    "execution": {
     "iopub.execute_input": "2022-04-27T10:55:19.944074Z",
     "iopub.status.busy": "2022-04-27T10:55:19.943622Z",
     "iopub.status.idle": "2022-04-27T10:55:19.948660Z",
     "shell.execute_reply": "2022-04-27T10:55:19.948086Z",
     "shell.execute_reply.started": "2022-04-27T10:55:19.944048Z"
    }
   },
   "outputs": [],
   "source": [
    "import numpy as np\n",
    "import torch\n",
    "import torch.nn as nn\n",
    "from datasets import Array3D, ClassLabel, Features, load_dataset, Image\n",
    "from matplotlib import pyplot\n",
    "from numpy import inf\n",
    "from sklearn.utils.class_weight import compute_class_weight\n",
    "from torchinfo import summary\n",
    "from tqdm import tqdm\n",
    "from transformers import AdamW, ViTFeatureExtractor, ViTModel\n",
    "import torchvision.transforms as transforms"
   ]
  },
  {
   "cell_type": "code",
   "execution_count": 20,
   "id": "d201fbe0-0c12-4f20-a376-8e707d1b0af1",
   "metadata": {
    "execution": {
     "iopub.execute_input": "2022-04-27T10:55:21.203683Z",
     "iopub.status.busy": "2022-04-27T10:55:21.202725Z",
     "iopub.status.idle": "2022-04-27T10:55:21.456006Z",
     "shell.execute_reply": "2022-04-27T10:55:21.455464Z",
     "shell.execute_reply.started": "2022-04-27T10:55:21.203651Z"
    }
   },
   "outputs": [
    {
     "name": "stdout",
     "output_type": "stream",
     "text": [
      "Length Training Dataset :- 58388\n",
      "Length Validation Dataset :- 2000\n",
      "Length Test Dataset :- 2000\n"
     ]
    }
   ],
   "source": [
    "from torch.utils.data import TensorDataset,DataLoader,random_split\n",
    "from torchvision.datasets import ImageFolder\n",
    "path_to_data = './data'\n",
    "\n",
    "train_path = path_to_data + '/Birds400/train'\n",
    "test_path = path_to_data + '/Birds400/test'\n",
    "val_path = path_to_data + '/Birds400/valid'\n",
    "\n",
    "train_dataset = ImageFolder(root=train_path,transform=transforms.Compose([\n",
    "                                                        transforms.Resize((224,224)),\n",
    "                                                        transforms.ToTensor()]))\n",
    "\n",
    "val_dataset = ImageFolder(root=val_path,transform=transforms.Compose([\n",
    "                                                        transforms.Resize((224,224)),\n",
    "                                                        transforms.ToTensor()]))\n",
    "\n",
    "test_dataset = ImageFolder(root=test_path,transform=transforms.Compose([\n",
    "                                                        transforms.Resize((224,224)),\n",
    "                                                        transforms.ToTensor()]))\n",
    "\n",
    "print(\"Length Training Dataset :-\",len(train_dataset))\n",
    "print(\"Length Validation Dataset :-\",len(val_dataset))\n",
    "print(\"Length Test Dataset :-\",len(test_dataset))"
   ]
  },
  {
   "cell_type": "code",
   "execution_count": 21,
   "id": "51d469e2-b35a-411f-a0b6-408904507704",
   "metadata": {
    "execution": {
     "iopub.execute_input": "2022-04-27T10:55:23.980124Z",
     "iopub.status.busy": "2022-04-27T10:55:23.979873Z",
     "iopub.status.idle": "2022-04-27T10:55:23.992061Z",
     "shell.execute_reply": "2022-04-27T10:55:23.991416Z",
     "shell.execute_reply.started": "2022-04-27T10:55:23.980099Z"
    }
   },
   "outputs": [],
   "source": [
    "device = torch.device(\"cuda:0\" if torch.cuda.is_available() else \"cpu\")\n",
    "# create dataloaders\n",
    "train_batch_size = 64\n",
    "eval_batch_size = train_batch_size*2\n",
    "train_dataloader = torch.utils.data.DataLoader(train_dataset, batch_size=train_batch_size, shuffle=True, num_workers=2)\n",
    "val_dataloader = torch.utils.data.DataLoader(val_dataset, batch_size=eval_batch_size, num_workers=2)\n",
    "test_dataloader = torch.utils.data.DataLoader(test_dataset, batch_size=eval_batch_size, num_workers=2)\n",
    "# batch = next(iter(train_dataloader))\n",
    "# assert batch['pixel_values'].shape == (train_batch_size, 3, 224, 224)\n",
    "# assert batch['label'].shape == (train_batch_size,)\n",
    "# # True\n",
    "# # True"
   ]
  },
  {
   "cell_type": "code",
   "execution_count": 22,
   "id": "579d3787-8234-4c3d-80ab-b9e2e0ae896c",
   "metadata": {
    "execution": {
     "iopub.execute_input": "2022-04-27T10:55:25.533492Z",
     "iopub.status.busy": "2022-04-27T10:55:25.532818Z",
     "iopub.status.idle": "2022-04-27T10:55:26.877055Z",
     "shell.execute_reply": "2022-04-27T10:55:26.876398Z",
     "shell.execute_reply.started": "2022-04-27T10:55:25.533463Z"
    }
   },
   "outputs": [],
   "source": [
    "vit_model = ViTModel.from_pretrained('google/vit-base-patch16-224-in21k')\n",
    "for param in vit_model.parameters():\n",
    "      param.requires_grad = False\n",
    "class ViTForImageClassification(nn.Module):\n",
    "    def __init__(self, num_labels=10):\n",
    "        super(ViTForImageClassification, self).__init__()\n",
    "        self.vit = vit_model\n",
    "        self.dropout = nn.Dropout(0.1)\n",
    "        self.classifier = nn.Linear(self.vit.config.hidden_size,400)\n",
    "        self.num_labels = num_labels\n",
    "    def forward(self, pixel_values):\n",
    "        outputs = self.vit(pixel_values=pixel_values)\n",
    "        output = self.dropout(outputs.last_hidden_state[:,0])\n",
    "        logits = self.classifier(output)\n",
    "        return logits\n",
    "model = ViTForImageClassification()\n",
    "model = model.to(device)"
   ]
  },
  {
   "cell_type": "code",
   "execution_count": 23,
   "id": "425fc6a3-b641-4d65-a092-f4a518e6f8c0",
   "metadata": {
    "execution": {
     "iopub.execute_input": "2022-04-27T10:55:33.198034Z",
     "iopub.status.busy": "2022-04-27T10:55:33.197785Z",
     "iopub.status.idle": "2022-04-27T10:55:33.202198Z",
     "shell.execute_reply": "2022-04-27T10:55:33.201417Z",
     "shell.execute_reply.started": "2022-04-27T10:55:33.198010Z"
    }
   },
   "outputs": [],
   "source": [
    "# #compute the class weights\n",
    "# class_wts = compute_class_weight(\"balanced\", np.unique(preprocessed_train_ds['label']), preprocessed_train_ds['label'].tolist())\n",
    "# # print(class_wts)\n",
    "# # # convert class weights to tensor\n",
    "# weights= torch.tensor(class_wts,dtype=torch.float)\n",
    "# weights = weights.to(device)\n",
    "# # # loss function\n",
    "cross_entropy = nn.CrossEntropyLoss()"
   ]
  },
  {
   "cell_type": "code",
   "execution_count": 24,
   "id": "9cc751a0-fee5-45b7-b4f1-04d5f3fc94e1",
   "metadata": {
    "execution": {
     "iopub.execute_input": "2022-04-27T10:55:35.388394Z",
     "iopub.status.busy": "2022-04-27T10:55:35.388155Z",
     "iopub.status.idle": "2022-04-27T10:55:35.396783Z",
     "shell.execute_reply": "2022-04-27T10:55:35.395896Z",
     "shell.execute_reply.started": "2022-04-27T10:55:35.388368Z"
    }
   },
   "outputs": [],
   "source": [
    "# define the optimizer\n",
    "optimizer = AdamW(model.parameters(), lr = 1e-3)\n",
    "# number of training epochs\n",
    "epochs = 10"
   ]
  },
  {
   "cell_type": "code",
   "execution_count": 25,
   "id": "0ba5c740-b8d2-4116-bf4b-70afbc3fa480",
   "metadata": {
    "execution": {
     "iopub.execute_input": "2022-04-27T10:55:37.241233Z",
     "iopub.status.busy": "2022-04-27T10:55:37.241000Z",
     "iopub.status.idle": "2022-04-27T10:55:37.247923Z",
     "shell.execute_reply": "2022-04-27T10:55:37.247171Z",
     "shell.execute_reply.started": "2022-04-27T10:55:37.241210Z"
    }
   },
   "outputs": [],
   "source": [
    "# function to train the model\n",
    "def train():\n",
    "  \n",
    "    model.train()\n",
    "    total_loss = 0\n",
    "    # empty list to save model predictions\n",
    "    total_preds=[]\n",
    "    # iterate over batches\n",
    "    for step,(pix,lbl) in enumerate(train_dataloader):\n",
    "        # progress update after every 50 batches.\n",
    "        if step % 50 == 0 and not step == 0:\n",
    "            print('  Batch {:>5,}  of  {:>5,}.'.format(step,    len(train_dataloader)))\n",
    "        \n",
    "        # push the batch to gpu\n",
    "        # print(batch)\n",
    "        # lbl, pix = batch\n",
    "        lbl, pix = lbl.to(device), pix.to(device)\n",
    "        #print(pix.shape)\n",
    "        \n",
    "        # get model predictions for the current batch\n",
    "        preds = model(pix)\n",
    "       \n",
    "        # compute the loss between actual and predicted values\n",
    "        loss = cross_entropy(preds, lbl)\n",
    "        \n",
    "        # add on to the total loss\n",
    "        total_loss = total_loss + loss.item()\n",
    "        \n",
    "        # backward pass to calculate the gradients\n",
    "        loss.backward()\n",
    "        \n",
    "        # clip the the gradients to 1.0. It helps in preventing the    exploding gradient problem\n",
    "        torch.nn.utils.clip_grad_norm_(model.parameters(), 1.0)\n",
    "        \n",
    "        # update parameters\n",
    "        optimizer.step()\n",
    "        \n",
    "        # clear calculated gradients\n",
    "        optimizer.zero_grad()  \n",
    "        preds=preds.detach().cpu().numpy()\n",
    "        \n",
    "        # append the model predictions\n",
    "        total_preds.append(preds)\n",
    "    # compute the training loss of the epoch\n",
    "    avg_loss = total_loss / len(train_dataloader)\n",
    "  \n",
    "    total_preds  = np.concatenate(total_preds, axis=0)\n",
    "    \n",
    "    #returns the loss and predictions\n",
    "    return avg_loss, total_preds"
   ]
  },
  {
   "cell_type": "code",
   "execution_count": 26,
   "id": "5e9018ad-071c-495e-9916-4007f0228193",
   "metadata": {
    "execution": {
     "iopub.execute_input": "2022-04-27T10:55:40.122789Z",
     "iopub.status.busy": "2022-04-27T10:55:40.122550Z",
     "iopub.status.idle": "2022-04-27T10:55:40.127188Z",
     "shell.execute_reply": "2022-04-27T10:55:40.126529Z",
     "shell.execute_reply.started": "2022-04-27T10:55:40.122765Z"
    }
   },
   "outputs": [],
   "source": [
    "def eval():\n",
    "    total_loss = 0\n",
    "    model.eval() # prep model for evaluation\n",
    "    for step,(pix,lbl) in enumerate(val_dataloader):\n",
    "        lbl, pix = lbl.to(device), pix.to(device)\n",
    "        \n",
    "        # forward pass: compute predicted outputs by passing inputs to the model\n",
    "        preds = model(pix)\n",
    "        # calculate the loss\n",
    "        loss = cross_entropy(preds, lbl)\n",
    "        total_loss += loss.item()\n",
    "    \n",
    "    return total_loss / len(val_dataloader)"
   ]
  },
  {
   "cell_type": "code",
   "execution_count": 27,
   "id": "a0b1966d-b7c6-48d7-af15-9a2b93fe62a2",
   "metadata": {
    "execution": {
     "iopub.execute_input": "2022-04-27T10:55:41.864321Z",
     "iopub.status.busy": "2022-04-27T10:55:41.864087Z",
     "iopub.status.idle": "2022-04-27T12:14:28.735865Z",
     "shell.execute_reply": "2022-04-27T12:14:28.734884Z",
     "shell.execute_reply.started": "2022-04-27T10:55:41.864298Z"
    }
   },
   "outputs": [
    {
     "name": "stdout",
     "output_type": "stream",
     "text": [
      "\n",
      " Epoch 1 / 10\n",
      "  Batch    50  of    913.\n",
      "  Batch   100  of    913.\n",
      "  Batch   150  of    913.\n",
      "  Batch   200  of    913.\n",
      "  Batch   250  of    913.\n",
      "  Batch   300  of    913.\n",
      "  Batch   350  of    913.\n",
      "  Batch   400  of    913.\n",
      "  Batch   450  of    913.\n",
      "  Batch   500  of    913.\n",
      "  Batch   550  of    913.\n",
      "  Batch   600  of    913.\n",
      "  Batch   650  of    913.\n",
      "  Batch   700  of    913.\n",
      "  Batch   750  of    913.\n",
      "  Batch   800  of    913.\n",
      "  Batch   850  of    913.\n",
      "  Batch   900  of    913.\n",
      "\n",
      " Training Loss: 1.507\n",
      "\n",
      " Validation Loss: 0.296\n",
      "\n",
      " Epoch 2 / 10\n",
      "  Batch    50  of    913.\n",
      "  Batch   100  of    913.\n",
      "  Batch   150  of    913.\n",
      "  Batch   200  of    913.\n",
      "  Batch   250  of    913.\n",
      "  Batch   300  of    913.\n",
      "  Batch   350  of    913.\n",
      "  Batch   400  of    913.\n",
      "  Batch   450  of    913.\n",
      "  Batch   500  of    913.\n",
      "  Batch   550  of    913.\n",
      "  Batch   600  of    913.\n",
      "  Batch   650  of    913.\n",
      "  Batch   700  of    913.\n",
      "  Batch   750  of    913.\n",
      "  Batch   800  of    913.\n",
      "  Batch   850  of    913.\n",
      "  Batch   900  of    913.\n",
      "\n",
      " Training Loss: 0.303\n",
      "\n",
      " Validation Loss: 0.161\n",
      "\n",
      " Epoch 3 / 10\n",
      "  Batch    50  of    913.\n",
      "  Batch   100  of    913.\n",
      "  Batch   150  of    913.\n",
      "  Batch   200  of    913.\n",
      "  Batch   250  of    913.\n",
      "  Batch   300  of    913.\n",
      "  Batch   350  of    913.\n",
      "  Batch   400  of    913.\n",
      "  Batch   450  of    913.\n",
      "  Batch   500  of    913.\n",
      "  Batch   550  of    913.\n",
      "  Batch   600  of    913.\n",
      "  Batch   650  of    913.\n",
      "  Batch   700  of    913.\n",
      "  Batch   750  of    913.\n",
      "  Batch   800  of    913.\n",
      "  Batch   850  of    913.\n",
      "  Batch   900  of    913.\n",
      "\n",
      " Training Loss: 0.204\n",
      "\n",
      " Validation Loss: 0.122\n",
      "\n",
      " Epoch 4 / 10\n",
      "  Batch    50  of    913.\n",
      "  Batch   100  of    913.\n",
      "  Batch   150  of    913.\n",
      "  Batch   200  of    913.\n",
      "  Batch   250  of    913.\n",
      "  Batch   300  of    913.\n",
      "  Batch   350  of    913.\n",
      "  Batch   400  of    913.\n",
      "  Batch   450  of    913.\n",
      "  Batch   500  of    913.\n",
      "  Batch   550  of    913.\n",
      "  Batch   600  of    913.\n",
      "  Batch   650  of    913.\n",
      "  Batch   700  of    913.\n",
      "  Batch   750  of    913.\n",
      "  Batch   800  of    913.\n",
      "  Batch   850  of    913.\n",
      "  Batch   900  of    913.\n",
      "\n",
      " Training Loss: 0.157\n",
      "\n",
      " Validation Loss: 0.099\n",
      "\n",
      " Epoch 5 / 10\n",
      "  Batch    50  of    913.\n",
      "  Batch   100  of    913.\n",
      "  Batch   150  of    913.\n",
      "  Batch   200  of    913.\n",
      "  Batch   250  of    913.\n",
      "  Batch   300  of    913.\n",
      "  Batch   350  of    913.\n",
      "  Batch   400  of    913.\n",
      "  Batch   450  of    913.\n",
      "  Batch   500  of    913.\n",
      "  Batch   550  of    913.\n",
      "  Batch   600  of    913.\n",
      "  Batch   650  of    913.\n",
      "  Batch   700  of    913.\n",
      "  Batch   750  of    913.\n",
      "  Batch   800  of    913.\n",
      "  Batch   850  of    913.\n",
      "  Batch   900  of    913.\n",
      "\n",
      " Training Loss: 0.127\n",
      "\n",
      " Validation Loss: 0.088\n",
      "\n",
      " Epoch 6 / 10\n",
      "  Batch    50  of    913.\n",
      "  Batch   100  of    913.\n",
      "  Batch   150  of    913.\n",
      "  Batch   200  of    913.\n",
      "  Batch   250  of    913.\n",
      "  Batch   300  of    913.\n",
      "  Batch   350  of    913.\n",
      "  Batch   400  of    913.\n",
      "  Batch   450  of    913.\n",
      "  Batch   500  of    913.\n",
      "  Batch   550  of    913.\n",
      "  Batch   600  of    913.\n",
      "  Batch   650  of    913.\n",
      "  Batch   700  of    913.\n",
      "  Batch   750  of    913.\n",
      "  Batch   800  of    913.\n",
      "  Batch   850  of    913.\n",
      "  Batch   900  of    913.\n",
      "\n",
      " Training Loss: 0.106\n",
      "\n",
      " Validation Loss: 0.082\n",
      "\n",
      " Epoch 7 / 10\n",
      "  Batch    50  of    913.\n",
      "  Batch   100  of    913.\n",
      "  Batch   150  of    913.\n",
      "  Batch   200  of    913.\n",
      "  Batch   250  of    913.\n",
      "  Batch   300  of    913.\n",
      "  Batch   350  of    913.\n",
      "  Batch   400  of    913.\n",
      "  Batch   450  of    913.\n",
      "  Batch   500  of    913.\n",
      "  Batch   550  of    913.\n",
      "  Batch   600  of    913.\n",
      "  Batch   650  of    913.\n",
      "  Batch   700  of    913.\n",
      "  Batch   750  of    913.\n",
      "  Batch   800  of    913.\n",
      "  Batch   850  of    913.\n",
      "  Batch   900  of    913.\n",
      "\n",
      " Training Loss: 0.090\n",
      "\n",
      " Validation Loss: 0.078\n",
      "\n",
      " Epoch 8 / 10\n",
      "  Batch    50  of    913.\n",
      "  Batch   100  of    913.\n",
      "  Batch   150  of    913.\n",
      "  Batch   200  of    913.\n",
      "  Batch   250  of    913.\n",
      "  Batch   300  of    913.\n",
      "  Batch   350  of    913.\n",
      "  Batch   400  of    913.\n",
      "  Batch   450  of    913.\n",
      "  Batch   500  of    913.\n",
      "  Batch   550  of    913.\n",
      "  Batch   600  of    913.\n",
      "  Batch   650  of    913.\n",
      "  Batch   700  of    913.\n",
      "  Batch   750  of    913.\n",
      "  Batch   800  of    913.\n",
      "  Batch   850  of    913.\n",
      "  Batch   900  of    913.\n",
      "\n",
      " Training Loss: 0.077\n",
      "\n",
      " Validation Loss: 0.072\n",
      "\n",
      " Epoch 9 / 10\n",
      "  Batch    50  of    913.\n",
      "  Batch   100  of    913.\n",
      "  Batch   150  of    913.\n",
      "  Batch   200  of    913.\n",
      "  Batch   250  of    913.\n",
      "  Batch   300  of    913.\n",
      "  Batch   350  of    913.\n",
      "  Batch   400  of    913.\n",
      "  Batch   450  of    913.\n",
      "  Batch   500  of    913.\n",
      "  Batch   550  of    913.\n",
      "  Batch   600  of    913.\n",
      "  Batch   650  of    913.\n",
      "  Batch   700  of    913.\n",
      "  Batch   750  of    913.\n",
      "  Batch   800  of    913.\n",
      "  Batch   850  of    913.\n",
      "  Batch   900  of    913.\n",
      "\n",
      " Training Loss: 0.068\n",
      "\n",
      " Validation Loss: 0.072\n",
      "\n",
      " Epoch 10 / 10\n",
      "  Batch    50  of    913.\n",
      "  Batch   100  of    913.\n",
      "  Batch   150  of    913.\n",
      "  Batch   200  of    913.\n",
      "  Batch   250  of    913.\n",
      "  Batch   300  of    913.\n",
      "  Batch   350  of    913.\n",
      "  Batch   400  of    913.\n",
      "  Batch   450  of    913.\n",
      "  Batch   500  of    913.\n",
      "  Batch   550  of    913.\n",
      "  Batch   600  of    913.\n",
      "  Batch   650  of    913.\n",
      "  Batch   700  of    913.\n",
      "  Batch   750  of    913.\n",
      "  Batch   800  of    913.\n",
      "  Batch   850  of    913.\n",
      "  Batch   900  of    913.\n",
      "\n",
      " Training Loss: 0.060\n",
      "\n",
      " Validation Loss: 0.066\n"
     ]
    }
   ],
   "source": [
    "min_loss = inf\n",
    "es = 0\n",
    "training_loss = []\n",
    "validation_loss = []\n",
    "for epoch in range(epochs):     \n",
    "    print('\\n Epoch {:} / {:}'.format(epoch + 1, epochs))\n",
    "    \n",
    "    # Train model\n",
    "    train_loss, _ = train()\n",
    "    val_loss = eval()\n",
    "    \n",
    "    training_loss.append(train_loss)\n",
    "    validation_loss.append(val_loss)\n",
    "    \n",
    "    # Early Stopping\n",
    "    if val_loss < min_loss:\n",
    "        min_loss = val_loss\n",
    "        es = 0\n",
    "    else:\n",
    "        es += 1\n",
    "        if es > 4:\n",
    "            print(\"Early stopping with train_loss: \", train_loss, \"and val_loss for this epoch: \", val_loss, \"...\")\n",
    "            break\n",
    "    \n",
    "    # it can make your experiment reproducible, similar to set  random seed to all options where there needs a random seed.\n",
    "    torch.backends.cudnn.deterministic = True\n",
    "    torch.backends.cudnn.benchmark = False\n",
    "    print(f'\\n Training Loss: {train_loss:.3f}')\n",
    "    print(f'\\n Validation Loss: {val_loss:.3f}')"
   ]
  },
  {
   "cell_type": "code",
   "execution_count": 28,
   "id": "cf10ee76-574c-4350-b048-b9c23ad2a2da",
   "metadata": {
    "execution": {
     "iopub.execute_input": "2022-04-27T12:14:28.738501Z",
     "iopub.status.busy": "2022-04-27T12:14:28.737801Z",
     "iopub.status.idle": "2022-04-27T12:14:28.862621Z",
     "shell.execute_reply": "2022-04-27T12:14:28.862063Z",
     "shell.execute_reply.started": "2022-04-27T12:14:28.738471Z"
    }
   },
   "outputs": [
    {
     "data": {
      "text/plain": [
       "<matplotlib.legend.Legend at 0x7efcc8adcdc0>"
      ]
     },
     "execution_count": 28,
     "metadata": {},
     "output_type": "execute_result"
    },
    {
     "data": {
      "image/png": "[encoded data removed]",
      "text/plain": [
       "<Figure size 432x288 with 1 Axes>"
      ]
     },
     "metadata": {
      "needs_background": "light"
     },
     "output_type": "display_data"
    }
   ],
   "source": [
    "import matplotlib.pyplot as plt\n",
    "\n",
    "plt.plot(training_loss,label=\"Training Loss\")\n",
    "plt.plot(validation_loss,label=\"Validation Loss\")\n",
    "plt.legend()"
   ]
  },
  {
   "cell_type": "code",
   "execution_count": 29,
   "id": "2eda8e8d-ea36-46e1-a569-db6bfd85ca74",
   "metadata": {
    "execution": {
     "iopub.execute_input": "2022-04-27T12:14:28.863657Z",
     "iopub.status.busy": "2022-04-27T12:14:28.863491Z",
     "iopub.status.idle": "2022-04-27T12:14:30.324973Z",
     "shell.execute_reply": "2022-04-27T12:14:30.324167Z",
     "shell.execute_reply.started": "2022-04-27T12:14:28.863637Z"
    }
   },
   "outputs": [],
   "source": [
    "torch.save(model.state_dict(), '/models')"
   ]
  },
  {
   "cell_type": "code",
   "execution_count": 32,
   "id": "9a6f89a3-c34d-4941-b6c6-6af70522071c",
   "metadata": {
    "execution": {
     "iopub.execute_input": "2022-04-27T12:24:29.696972Z",
     "iopub.status.busy": "2022-04-27T12:24:29.696363Z",
     "iopub.status.idle": "2022-04-27T12:24:47.845765Z",
     "shell.execute_reply": "2022-04-27T12:24:47.844355Z",
     "shell.execute_reply.started": "2022-04-27T12:24:29.696926Z"
    }
   },
   "outputs": [],
   "source": [
    "def eval():\n",
    "    model.eval()\n",
    "    y_pred = []\n",
    "    y_true = []\n",
    "    with torch.no_grad():\n",
    "        for step, (pix,lbl) in tqdm(enumerate(test_dataloader), total = len(test_dataloader)):\n",
    "            try:\n",
    "                lbl, pix = lbl.to(device), pix.to(device)\n",
    "                outputs = model(pix)\n",
    "                outputs = torch.argmax(outputs, axis=1)\n",
    "                y_pred.extend(outputs.cpu().detach().numpy())\n",
    "                y_true.extend(lbl.cpu().detach().numpy())\n",
    "            except:\n",
    "                pass\n",
    "    return y_pred, y_true\n",
    "y_pred, y_true = eval()"
   ]
  },
  {
   "cell_type": "code",
   "execution_count": null,
   "id": "101982a6-db36-4a9c-8ec5-8e56392a1548",
   "metadata": {
    "execution": {
     "iopub.status.busy": "2022-04-27T12:14:39.155433Z",
     "iopub.status.idle": "2022-04-27T12:14:39.155721Z",
     "shell.execute_reply": "2022-04-27T12:14:39.155601Z",
     "shell.execute_reply.started": "2022-04-27T12:14:39.155587Z"
    }
   },
   "outputs": [
    {
     "name": "stdout",
     "output_type": "stream",
     "text": [
      "Accuracy of the model 0.9921875\n"
     ]
    }
   ],
   "source": [
    "correct = np.array(y_pred) == np.array(y_true)\n",
    "accuracy = correct.sum() / len(correct)\n",
    "print(\"Accuracy of the model\", accuracy)"
   ]
  },
  {
   "cell_type": "code",
   "execution_count": null,
   "id": "bdc4efb1-c3dd-4586-a0e1-88284f255a0f",
   "metadata": {},
   "outputs": [],
   "source": []
  }
 ],
 "metadata": {
  "kernelspec": {
   "display_name": "Python 3 (ipykernel)",
   "language": "python",
   "name": "python3"
  },
  "language_info": {
   "codemirror_mode": {
    "name": "ipython",
    "version": 3
   },
   "file_extension": ".py",
   "mimetype": "text/x-python",
   "name": "python",
   "nbconvert_exporter": "python",
   "pygments_lexer": "ipython3",
   "version": "3.8.12"
  }
 },
 "nbformat": 4,
 "nbformat_minor": 5
}
